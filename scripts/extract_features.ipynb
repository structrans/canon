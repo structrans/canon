{
 "cells": [
  {
   "cell_type": "code",
   "execution_count": 24,
   "metadata": {},
   "outputs": [],
   "source": [
    "%matplotlib inline\n",
    "import os\n",
    "import sys\n",
    "sys.path.append(\"..\")\n",
    "import time\n",
    "import numpy as np\n",
    "\n",
    "from joblib import Parallel, delayed\n",
    "from skimage.io import imread\n",
    "\n",
    "from canon.pattern import LatentExtractor\n",
    "from canon.util import split_workload"
   ]
  },
  {
   "cell_type": "code",
   "execution_count": 49,
   "metadata": {},
   "outputs": [],
   "source": [
    "def process_img(img_files, model_name):\n",
    "    extractor = LatentExtractor(model_name)\n",
    "    img_data = np.array([imread(f) for f in img_files])\n",
    "    img_idx = np.array([[int(f[-9:-4])] for f in img_files])\n",
    "    codes = extractor.features(img_data)\n",
    "    return np.hstack([img_idx, codes])\n",
    "\n",
    "def extract_features(jpg_dir, model_name):\n",
    "    dir_path = os.path.join(\"img\", jpg_dir)\n",
    "    filenames = [os.path.join(dir_path, filename) for filename in os.listdir(dir_path)]\n",
    "    print('Found %d files in the directory %s.' % (len(filenames), dir_path))\n",
    "\n",
    "    fn_grps = split_workload(filenames, 32)\n",
    "\n",
    "    with Parallel(n_jobs=-1, verbose=12) as parallel:\n",
    "        data = parallel(delayed(process_img)(grp, model_name) for grp in fn_grps)\n",
    "        data = np.vstack(data)\n",
    "        data = data[data[:,0].argsort()][:, 1:]\n",
    "        print(\"Loaded a data of shape {}\".format(data.shape))\n",
    "    \n",
    "    return data"
   ]
  },
  {
   "cell_type": "code",
   "execution_count": 50,
   "metadata": {},
   "outputs": [
    {
     "name": "stdout",
     "output_type": "stream",
     "text": [
      "Found 6000 files in the directory img/BTO_25C_wb3_processed.\n"
     ]
    },
    {
     "name": "stderr",
     "output_type": "stream",
     "text": [
      "[Parallel(n_jobs=-1)]: Using backend LokyBackend with 8 concurrent workers.\n",
      "[Parallel(n_jobs=-1)]: Done   1 tasks      | elapsed:    3.5s\n",
      "[Parallel(n_jobs=-1)]: Done   2 tasks      | elapsed:    3.5s\n",
      "[Parallel(n_jobs=-1)]: Done   3 tasks      | elapsed:    3.5s\n",
      "[Parallel(n_jobs=-1)]: Done   4 tasks      | elapsed:    3.6s\n",
      "[Parallel(n_jobs=-1)]: Done   5 tasks      | elapsed:    3.7s\n",
      "[Parallel(n_jobs=-1)]: Done   6 tasks      | elapsed:    3.7s\n",
      "[Parallel(n_jobs=-1)]: Done   7 tasks      | elapsed:    3.7s\n",
      "[Parallel(n_jobs=-1)]: Done   8 tasks      | elapsed:    3.8s\n",
      "[Parallel(n_jobs=-1)]: Done   9 tasks      | elapsed:    7.0s\n",
      "[Parallel(n_jobs=-1)]: Done  10 tasks      | elapsed:    7.1s\n",
      "[Parallel(n_jobs=-1)]: Done  11 tasks      | elapsed:    7.1s\n",
      "[Parallel(n_jobs=-1)]: Done  12 tasks      | elapsed:    7.1s\n",
      "[Parallel(n_jobs=-1)]: Done  13 tasks      | elapsed:    7.1s\n",
      "[Parallel(n_jobs=-1)]: Done  14 tasks      | elapsed:    7.2s\n",
      "[Parallel(n_jobs=-1)]: Done  15 tasks      | elapsed:    7.2s\n",
      "[Parallel(n_jobs=-1)]: Done  16 tasks      | elapsed:    7.3s\n",
      "[Parallel(n_jobs=-1)]: Done  17 tasks      | elapsed:   10.7s\n",
      "[Parallel(n_jobs=-1)]: Done  20 out of  32 | elapsed:   10.8s remaining:    6.5s\n",
      "[Parallel(n_jobs=-1)]: Done  23 out of  32 | elapsed:   10.9s remaining:    4.3s\n",
      "[Parallel(n_jobs=-1)]: Done  26 out of  32 | elapsed:   14.6s remaining:    3.4s\n",
      "[Parallel(n_jobs=-1)]: Done  29 out of  32 | elapsed:   14.6s remaining:    1.5s\n",
      "[Parallel(n_jobs=-1)]: Done  32 out of  32 | elapsed:   14.7s remaining:    0.0s\n",
      "[Parallel(n_jobs=-1)]: Done  32 out of  32 | elapsed:   14.7s finished\n"
     ]
    },
    {
     "name": "stdout",
     "output_type": "stream",
     "text": [
      "Loaded a data of shape (6000, 256)\n"
     ]
    }
   ],
   "source": [
    "jpg_dir = \"BTO_25C_wb3_processed\"\n",
    "model_name = \"ae_128_256_conv_4_dense_1\"\n",
    "\n",
    "data = extract_features(jpg_dir, model_name)\n",
    "np.save(\"features/\" + jpg_dir + \".npy\", data)"
   ]
  },
  {
   "cell_type": "code",
   "execution_count": null,
   "metadata": {},
   "outputs": [],
   "source": []
  }
 ],
 "metadata": {
  "kernelspec": {
   "display_name": "Python 3",
   "language": "python",
   "name": "python3"
  },
  "language_info": {
   "codemirror_mode": {
    "name": "ipython",
    "version": 3
   },
   "file_extension": ".py",
   "mimetype": "text/x-python",
   "name": "python",
   "nbconvert_exporter": "python",
   "pygments_lexer": "ipython3",
   "version": "3.6.5"
  }
 },
 "nbformat": 4,
 "nbformat_minor": 2
}
