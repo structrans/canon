{
 "cells": [
  {
   "cell_type": "code",
   "execution_count": 1,
   "metadata": {},
   "outputs": [
    {
     "ename": "ModuleNotFoundError",
     "evalue": "No module named 'keras'",
     "output_type": "error",
     "traceback": [
      "\u001b[0;31m---------------------------------------------------------------------------\u001b[0m",
      "\u001b[0;31mModuleNotFoundError\u001b[0m                       Traceback (most recent call last)",
      "\u001b[0;32m<ipython-input-1-bf0826e5e204>\u001b[0m in \u001b[0;36m<module>\u001b[0;34m\u001b[0m\n\u001b[1;32m     21\u001b[0m \u001b[0;32mfrom\u001b[0m \u001b[0mskimage\u001b[0m\u001b[0;34m.\u001b[0m\u001b[0mio\u001b[0m \u001b[0;32mimport\u001b[0m \u001b[0mimread\u001b[0m\u001b[0;34m\u001b[0m\u001b[0;34m\u001b[0m\u001b[0m\n\u001b[1;32m     22\u001b[0m \u001b[0;34m\u001b[0m\u001b[0m\n\u001b[0;32m---> 23\u001b[0;31m \u001b[0;32mfrom\u001b[0m \u001b[0mcanon\u001b[0m\u001b[0;34m.\u001b[0m\u001b[0mpattern\u001b[0m\u001b[0;34m.\u001b[0m\u001b[0mmodel\u001b[0m \u001b[0;32mimport\u001b[0m \u001b[0mGMModel\u001b[0m\u001b[0;34m,\u001b[0m \u001b[0mKMeansModel\u001b[0m\u001b[0;34m,\u001b[0m \u001b[0mBGMModel\u001b[0m\u001b[0;34m,\u001b[0m \u001b[0mMeanShiftModel\u001b[0m\u001b[0;34m\u001b[0m\u001b[0;34m\u001b[0m\u001b[0m\n\u001b[0m\u001b[1;32m     24\u001b[0m \u001b[0;32mfrom\u001b[0m \u001b[0mcanon\u001b[0m\u001b[0;34m.\u001b[0m\u001b[0mseq\u001b[0m\u001b[0;34m.\u001b[0m\u001b[0mseqreader\u001b[0m \u001b[0;32mimport\u001b[0m \u001b[0mSeqReader\u001b[0m\u001b[0;34m\u001b[0m\u001b[0;34m\u001b[0m\u001b[0m\n\u001b[1;32m     25\u001b[0m \u001b[0;32mfrom\u001b[0m \u001b[0mcanon\u001b[0m\u001b[0;34m.\u001b[0m\u001b[0mpattern\u001b[0m\u001b[0;34m.\u001b[0m\u001b[0mlabeler\u001b[0m \u001b[0;32mimport\u001b[0m \u001b[0mSeqLabeler\u001b[0m\u001b[0;34m\u001b[0m\u001b[0;34m\u001b[0m\u001b[0m\n",
      "\u001b[0;32m~/Pyprojects/canon/canon/pattern/__init__.py\u001b[0m in \u001b[0;36m<module>\u001b[0;34m\u001b[0m\n\u001b[1;32m      1\u001b[0m \u001b[0;32mfrom\u001b[0m \u001b[0;34m.\u001b[0m\u001b[0mfeature_extractor\u001b[0m \u001b[0;32mimport\u001b[0m \u001b[0mCombinedExtractor\u001b[0m\u001b[0;34m\u001b[0m\u001b[0;34m\u001b[0m\u001b[0m\n\u001b[0;32m----> 2\u001b[0;31m \u001b[0;32mfrom\u001b[0m \u001b[0;34m.\u001b[0m\u001b[0mlatent_extractor\u001b[0m \u001b[0;32mimport\u001b[0m \u001b[0mLatentExtractor\u001b[0m\u001b[0;34m\u001b[0m\u001b[0;34m\u001b[0m\u001b[0m\n\u001b[0m\u001b[1;32m      3\u001b[0m \u001b[0;32mfrom\u001b[0m \u001b[0;34m.\u001b[0m\u001b[0mrescale_extractor\u001b[0m \u001b[0;32mimport\u001b[0m \u001b[0mRescaleExtractor\u001b[0m\u001b[0;34m\u001b[0m\u001b[0;34m\u001b[0m\u001b[0m\n\u001b[1;32m      4\u001b[0m \u001b[0;32mfrom\u001b[0m \u001b[0;34m.\u001b[0m\u001b[0mpeak_extractor\u001b[0m \u001b[0;32mimport\u001b[0m \u001b[0mPeakNumberExtractor\u001b[0m\u001b[0;34m\u001b[0m\u001b[0;34m\u001b[0m\u001b[0m\n\u001b[1;32m      5\u001b[0m \u001b[0;32mfrom\u001b[0m \u001b[0;34m.\u001b[0m\u001b[0mpretrained_extractor\u001b[0m \u001b[0;32mimport\u001b[0m \u001b[0mPretrainedExtractor\u001b[0m\u001b[0;34m\u001b[0m\u001b[0;34m\u001b[0m\u001b[0m\n",
      "\u001b[0;32m~/Pyprojects/canon/canon/pattern/latent_extractor.py\u001b[0m in \u001b[0;36m<module>\u001b[0;34m\u001b[0m\n\u001b[1;32m      3\u001b[0m \u001b[0;32mimport\u001b[0m \u001b[0mnumpy\u001b[0m \u001b[0;32mas\u001b[0m \u001b[0mnp\u001b[0m\u001b[0;34m\u001b[0m\u001b[0;34m\u001b[0m\u001b[0m\n\u001b[1;32m      4\u001b[0m \u001b[0;32mfrom\u001b[0m \u001b[0mskimage\u001b[0m\u001b[0;34m.\u001b[0m\u001b[0mtransform\u001b[0m \u001b[0;32mimport\u001b[0m \u001b[0mresize\u001b[0m\u001b[0;34m\u001b[0m\u001b[0;34m\u001b[0m\u001b[0m\n\u001b[0;32m----> 5\u001b[0;31m \u001b[0;32mfrom\u001b[0m \u001b[0mkeras\u001b[0m\u001b[0;34m.\u001b[0m\u001b[0mmodels\u001b[0m \u001b[0;32mimport\u001b[0m \u001b[0mmodel_from_json\u001b[0m\u001b[0;34m\u001b[0m\u001b[0;34m\u001b[0m\u001b[0m\n\u001b[0m\u001b[1;32m      6\u001b[0m \u001b[0;34m\u001b[0m\u001b[0m\n\u001b[1;32m      7\u001b[0m \u001b[0;32mfrom\u001b[0m \u001b[0mcanon\u001b[0m\u001b[0;34m.\u001b[0m\u001b[0mpattern\u001b[0m\u001b[0;34m.\u001b[0m\u001b[0mfeature_extractor\u001b[0m \u001b[0;32mimport\u001b[0m \u001b[0mFeaturesExtractor\u001b[0m\u001b[0;34m\u001b[0m\u001b[0;34m\u001b[0m\u001b[0m\n",
      "\u001b[0;31mModuleNotFoundError\u001b[0m: No module named 'keras'"
     ]
    }
   ],
   "source": [
    "%matplotlib inline\n",
    "import os\n",
    "import sys\n",
    "sys.path.append(\"..\")\n",
    "import time\n",
    "import numpy as np\n",
    "import h5py\n",
    "\n",
    "np.random.seed(4)\n",
    "\n",
    "import matplotlib.pyplot as plt\n",
    "from matplotlib import rcParams\n",
    "\n",
    "rcParams['font.size'] = 10\n",
    "rcParams['font.family'] = 'serif'\n",
    "rcParams['font.sans-serif'] = ['Times New Roman']\n",
    "\n",
    "from sklearn.decomposition import PCA\n",
    "\n",
    "from joblib import Parallel, delayed\n",
    "from skimage.io import imread\n",
    "\n",
    "from canon.pattern.model import GMModel, KMeansModel, BGMModel, MeanShiftModel\n",
    "from canon.seq.seqreader import SeqReader\n",
    "from canon.pattern.labeler import SeqLabeler\n",
    "from canon.pattern import LatentExtractor\n",
    "from canon.util import split_workload\n",
    "\n",
    "def read_seq(seq, key=\"orsnr___\"):\n",
    "    seqfile = os.path.join(\"seq\", seq+\".SEQ\")\n",
    "    reader = SeqReader(seqfile)    \n",
    "    Z = reader.get_Zmap(key)[0]\n",
    "    return Z[::-1, :]\n",
    "\n",
    "def fill_features(features, img_shape):\n",
    "    num_points = np.prod(img_shape)\n",
    "    if len(features) != num_points:\n",
    "        print(\"Filling %d features to %d data points\" % (len(features), num_points))\n",
    "        features2 = np.zeros((np.prod(img_shape), features.shape[1] - 1))\n",
    "        features2[features[:, 0].astype('int') - 1] = features[:, 1:]\n",
    "        return features2\n",
    "    else:\n",
    "        return features[:, 1:]\n",
    "    \n",
    "def xy_to_idx(x, y, img_shape):\n",
    "    return y * img_shape[1] + x\n",
    "\n",
    "def idx_to_xy(idx, img_shape, flip_vertical=True):\n",
    "    x = int(idx / img_shape[1])\n",
    "    y = idx % img_shape[1]\n",
    "    if flip_vertical:\n",
    "        x = img_shape[0] - x - 1\n",
    "    return y, x\n",
    "\n",
    "def process_img(img_files, model_name):\n",
    "    extractor = LatentExtractor(model_name)\n",
    "    img_data = np.array([imread(f) for f in img_files])\n",
    "    img_idx = np.array([[int(f[-9:-4])] for f in img_files])\n",
    "    codes = extractor.features(img_data)\n",
    "    return np.hstack([img_idx, codes])\n",
    "\n",
    "def extract_features(jpg_dir, model_name):\n",
    "    dir_path = os.path.join(\"img\", jpg_dir)\n",
    "    filenames = [os.path.join(dir_path, filename) for filename in os.listdir(dir_path)\n",
    "                 if (not filename[0] == '.') and filename[-4:] == \".jpg\"]\n",
    "    print('Found %d files in the directory %s.' % (len(filenames), dir_path))\n",
    "\n",
    "    fn_grps = split_workload(filenames, 32)\n",
    "\n",
    "    with Parallel(n_jobs=-1, verbose=1) as parallel:\n",
    "        data = parallel(delayed(process_img)(grp, model_name) for grp in fn_grps)\n",
    "        data = np.vstack(data)\n",
    "        data = data[data[:,0].argsort()]\n",
    "        print(\"Loaded a data of shape {}\".format(data.shape))\n",
    "    \n",
    "    return data"
   ]
  },
  {
   "cell_type": "markdown",
   "metadata": {},
   "source": [
    "## Feature Extraction"
   ]
  },
  {
   "cell_type": "code",
   "execution_count": 3,
   "metadata": {},
   "outputs": [
    {
     "name": "stdout",
     "output_type": "stream",
     "text": [
      "Extracting features from au29_feb_100x30 using ae_conv_2_256 ...\n",
      "Found 3000 files in the directory img\\au29_feb_100x30.\n"
     ]
    },
    {
     "name": "stderr",
     "output_type": "stream",
     "text": [
      "[Parallel(n_jobs=-1)]: Using backend LokyBackend with 12 concurrent workers.\n"
     ]
    },
    {
     "name": "stdout",
     "output_type": "stream",
     "text": [
      "Loaded a data of shape (3000, 257)\n",
      "Save 1 datasets to au29_feb_100x30.hdf5\n",
      "ae_conv_2_256 (3000, 257)\n",
      "Final datasets in au29_feb_100x30.hdf5: ['ae_conv_2_256']\n",
      "47.81\n"
     ]
    },
    {
     "name": "stderr",
     "output_type": "stream",
     "text": [
      "[Parallel(n_jobs=-1)]: Done  32 out of  32 | elapsed:   47.6s finished\n"
     ]
    }
   ],
   "source": [
    "t0 = time.time()\n",
    "\n",
    "jpg_dir = \"au29_feb_100x30\"\n",
    "\n",
    "models = [\"ae_conv_4_256_best\"]\n",
    "\n",
    "features = []\n",
    "for model in models:\n",
    "    print(\"Extracting features from {} using {} ...\".format(jpg_dir, model))\n",
    "    data = extract_features(jpg_dir, model)\n",
    "    features.append(data)\n",
    "\n",
    "hdf5_file = jpg_dir +'.hdf5'\n",
    "print(\"Save {} datasets to {}\".format(len(features), hdf5_file))\n",
    "with h5py.File(os.path.join(\"features\", hdf5_file), 'w') as h5f:\n",
    "    for m, d in zip(models, features):\n",
    "        print(m, d.shape)\n",
    "        h5f.create_dataset(m, data=d)\n",
    "with h5py.File(os.path.join(\"features\", hdf5_file), 'r') as h5f:\n",
    "    print(\"Final datasets in {}: {}\".format(hdf5_file, list(h5f.keys())))\n",
    "    \n",
    "print(\"%.2f\" % (time.time() - t0))"
   ]
  },
  {
   "cell_type": "code",
   "execution_count": 4,
   "metadata": {},
   "outputs": [
    {
     "name": "stdout",
     "output_type": "stream",
     "text": [
      "ae_conv_2_256\n",
      "(3000, 257)\n",
      "Read 1 datasets for models ['ae_conv_2_256']\n"
     ]
    }
   ],
   "source": [
    "feature_file=\"au29_feb_100x30\"\n",
    "img_shape = (30, 100)\n",
    "aspect_ratio = 1\n",
    "seqs = [\"au29_feb_a_100x30\", \"au29_feb_m_100x30\"]\n",
    "\n",
    "ae_models = []\n",
    "features = []\n",
    "\n",
    "with h5py.File(os.path.join(\"features\", feature_file +'.hdf5'), 'r') as h5f:\n",
    "    for k in h5f.keys():\n",
    "        print(k)\n",
    "        data = np.array(h5f.get(k))\n",
    "        print(data.shape)\n",
    "        features.append(fill_features(data, img_shape))\n",
    "        ae_models.append(k)\n",
    "print(\"Read {} datasets for models {}\".format(len(features), ae_models))"
   ]
  },
  {
   "cell_type": "markdown",
   "metadata": {},
   "source": [
    "## Direct Coloring\n",
    "Directly color each point using the first 3 principal components, without clustering."
   ]
  },
  {
   "cell_type": "code",
   "execution_count": 5,
   "metadata": {},
   "outputs": [
    {
     "data": {
      "image/png": "[encoded data removed]",
      "text/plain": [
       "<Figure size 432x288 with 1 Axes>"
      ]
     },
     "metadata": {},
     "output_type": "display_data"
    }
   ],
   "source": [
    "def draw_direct_color(features, ax):\n",
    "    pca = PCA(n_components=3)\n",
    "    X = pca.fit_transform(features)\n",
    "    pca_range = [X.min(axis=0), X.max(axis=0)]\n",
    "    X = (X - pca_range[0]) / (pca_range[1] - pca_range[0])\n",
    "    Z = np.zeros((img_shape[0], img_shape[1], 3))\n",
    "    Z[:, :, 0] = X[:, 0].reshape(img_shape)\n",
    "    Z[:, :, 1] = X[:, 1].reshape(img_shape)\n",
    "    Z[:, :, 2] = X[:, 2].reshape(img_shape)\n",
    "    img = Z[::-1, :, :]\n",
    "    ax.imshow(img, aspect=aspect_ratio)\n",
    "    return img\n",
    "\n",
    "fig, ax = plt.subplots(ncols=1, nrows=1)\n",
    "f = features[0]\n",
    "img_dc = draw_direct_color(f, ax)\n",
    "ax.axis('off')\n",
    "plt.tight_layout()\n",
    "# fig.savefig(\"img/C5_Direct_Color.pdf\", dpi=300)"
   ]
  },
  {
   "cell_type": "markdown",
   "metadata": {},
   "source": [
    "## Clustering\n",
    "The normal clustering + labeling"
   ]
  },
  {
   "cell_type": "code",
   "execution_count": 6,
   "metadata": {},
   "outputs": [
    {
     "name": "stdout",
     "output_type": "stream",
     "text": [
      "train and score: 4.1688551902771\n",
      "Silhouette Score = 0.22734475513820576, Calinski-Harabaz Score = 544.3983774041156\n"
     ]
    },
    {
     "data": {
      "image/png": "[encoded data removed]",
      "text/plain": [
       "<Figure size 432x288 with 1 Axes>"
      ]
     },
     "metadata": {},
     "output_type": "display_data"
    }
   ],
   "source": [
    "dataset = 0\n",
    "ae_model = ae_models[dataset]\n",
    "samples = features[dataset]\n",
    "\n",
    "mPCA = None\n",
    "K = 10\n",
    "N = samples.shape[0]\n",
    "\n",
    "model = KMeansModel()\n",
    "if mPCA is not None and mPCA < samples.shape[1]:\n",
    "    pca = PCA(n_components=mPCA)\n",
    "    preprocessors = [pca]\n",
    "else:\n",
    "    preprocessors=[]\n",
    "\n",
    "t0 = time.time()\n",
    "if N > 6400:\n",
    "    print(\"To many feature vectors, pick 6400 samples to train clustering\")\n",
    "    training_set = samples[np.random.choice(np.arange(N), 6400)]\n",
    "else:\n",
    "    training_set = samples\n",
    "model.train(training_set, n_clusters=K, preprocessors=preprocessors)\n",
    "scores = np.array(model.score(samples))\n",
    "print(\"train and score:\", time.time() - t0)\n",
    "\n",
    "silhouette = model.compute_silhouette_score(samples)\n",
    "calinski = model.compute_calinski_harabaz_score(samples)\n",
    "print(\"Silhouette Score = {}, Calinski-Harabaz Score = {}\".format(silhouette, calinski))\n",
    "\n",
    "fig, ax = plt.subplots(ncols=1, nrows=1)\n",
    "\n",
    "Z = model.color_by_pca(scores.reshape(img_shape), scaling='centroids')\n",
    "ax.imshow(Z[::-1, :, :], aspect=aspect_ratio)\n",
    "ax.axis('off')\n",
    "plt.tight_layout()\n",
    "# fig.savefig(\"img/C5_3.pdf\", dpi=300)"
   ]
  },
  {
   "cell_type": "code",
   "execution_count": 133,
   "metadata": {},
   "outputs": [],
   "source": [
    "#img_k2 = Z[::-1, :, :]\n",
    "img_k10 = Z[::-1, :, :]"
   ]
  },
  {
   "cell_type": "markdown",
   "metadata": {},
   "source": [
    "## Indexing Labeler\n",
    "\n",
    "Requires SEQ file(s)"
   ]
  },
  {
   "cell_type": "code",
   "execution_count": 7,
   "metadata": {},
   "outputs": [
    {
     "data": {
      "image/png": "[encoded data removed]",
      "text/plain": [
       "<Figure size 432x288 with 3 Axes>"
      ]
     },
     "metadata": {},
     "output_type": "display_data"
    }
   ],
   "source": [
    "seqs = [\"au29_feb_a_100x30\", \"au29_feb_m_100x30\"]\n",
    "\n",
    "Zs_seq = [read_seq(seq) for seq in seqs]\n",
    "seqfiles = [os.path.join(\"seq\", seq+\".SEQ\") for seq in seqs]\n",
    "labler = SeqLabeler(seqfiles)\n",
    "Z_seq = labler.Z_map()\n",
    "mask = np.where(np.isfinite(Z_seq))\n",
    "vmin, vmax = Z_seq[mask].min(), Z_seq[mask].max()\n",
    "\n",
    "Z = model.score_by_seqs(samples, seqfiles)\n",
    "fig, ax = plt.subplots(ncols=1, nrows=3)\n",
    "ax[0].imshow(Z[::-1, :], cmap='jet', vmin=vmin, vmax=vmax, aspect=1)\n",
    "ax[0].axis('off')\n",
    "ax[0].set_title(r'$K$=%d' % K, fontsize=12)\n",
    "ax[1].imshow(Zs_seq[0], cmap='jet', vmin=vmin, vmax=vmax, aspect=1)\n",
    "ax[1].axis('off')\n",
    "ax[2].imshow(Zs_seq[1], cmap='jet', vmin=vmin, vmax=vmax, aspect=1)\n",
    "ax[2].axis('off')\n",
    "plt.tight_layout()"
   ]
  },
  {
   "cell_type": "code",
   "execution_count": 117,
   "metadata": {},
   "outputs": [],
   "source": [
    "#img_seq_k10=Z[::-1, :]\n",
    "img_seq_k64=Z[::-1, :]\n",
    "# img_seq=Z_seq[::-1, :]\n",
    "#img_seq_a=Zs_seq[0]\n",
    "#img_seq_m=Zs_seq[1]"
   ]
  },
  {
   "cell_type": "markdown",
   "metadata": {},
   "source": [
    "# Silhouette Score & Calinski-Harabaz Score\n",
    "Use Silhouette Score & Calinski-Harabaz Score to estimate number of \"coarse\" clusters.\n",
    "Good for grain boundaries and phase boundaries."
   ]
  },
  {
   "cell_type": "code",
   "execution_count": 9,
   "metadata": {},
   "outputs": [
    {
     "name": "stderr",
     "output_type": "stream",
     "text": [
      "[Parallel(n_jobs=-1)]: Using backend LokyBackend with 12 concurrent workers.\n",
      "[Parallel(n_jobs=-1)]: Done  14 out of  18 | elapsed:   15.6s remaining:    4.4s\n",
      "[Parallel(n_jobs=-1)]: Done  18 out of  18 | elapsed:   16.4s finished\n"
     ]
    }
   ],
   "source": [
    "dataset = -1\n",
    "ae_model = ae_models[dataset]\n",
    "samples = features[dataset]\n",
    "\n",
    "Ks = np.arange(2, 20, 1)\n",
    "SCs=[]\n",
    "N = len(samples)\n",
    "\n",
    "def sc_scores(K):\n",
    "    print(\"K=\", K)\n",
    "    model = KMeansModel()\n",
    "    pca = PCA(n_components=32)\n",
    "    if N > 6400:\n",
    "        print(\"To many feature vectors, pick 6400 samples to train clustering\")\n",
    "        training_set = samples[np.random.choice(np.arange(N), 6400)]\n",
    "    else:\n",
    "        training_set = samples\n",
    "    model.train(training_set, n_clusters=K, preprocessors=preprocessors)\n",
    "    silhouette = model.compute_silhouette_score(samples)\n",
    "    calinski = model.compute_calinski_harabaz_score(samples)\n",
    "    print(\"Silhouette Score = {}, Calinski-Harabaz Score = {}\".format(silhouette, calinski))\n",
    "    return silhouette, calinski\n",
    "\n",
    "with Parallel(n_jobs=-1, verbose=1) as parallel:\n",
    "    SCs = parallel(delayed(sc_scores)(k) for k in Ks)\n",
    "    SCs = np.array(SCs)"
   ]
  },
  {
   "cell_type": "code",
   "execution_count": 107,
   "metadata": {},
   "outputs": [
    {
     "data": {
      "image/png": "[encoded data removed]",
      "text/plain": [
       "<Figure size 576x288 with 2 Axes>"
      ]
     },
     "metadata": {},
     "output_type": "display_data"
    }
   ],
   "source": [
    "fig, ax = plt.subplots(1, 2, figsize=(8, 4))\n",
    "ax[0].plot(Ks, SCs[:, 0], 'o--k', markerfacecolor='w', markersize=5)\n",
    "ax[0].set_xlabel(r'Number of Clusters', fontsize=12)\n",
    "ax[0].set_ylabel(r'Silhouette Score', fontsize=12)\n",
    "\n",
    "ax[1].plot(Ks, SCs[:, 1], 'o--k', markerfacecolor='w', markersize=5)\n",
    "ax[1].set_xlabel(r'Number of Clusters', fontsize=12)\n",
    "ax[1].set_ylabel(r'Calinski-Harabaz Score', fontsize=12)\n",
    "\n",
    "plt.tight_layout()\n",
    "fig.savefig(\"img/Au29_SCH.pdf\", dpi=300)"
   ]
  },
  {
   "cell_type": "markdown",
   "metadata": {},
   "source": [
    "## Combine"
   ]
  },
  {
   "cell_type": "code",
   "execution_count": 134,
   "metadata": {},
   "outputs": [
    {
     "name": "stderr",
     "output_type": "stream",
     "text": [
      "WARNING:matplotlib.image:Clipping input data to the valid range for imshow with RGB data ([0..1] for floats or [0..255] for integers).\n"
     ]
    },
    {
     "data": {
      "image/png": "[encoded data removed]",
      "text/plain": [
       "<Figure size 576x187.2 with 10 Axes>"
      ]
     },
     "metadata": {},
     "output_type": "display_data"
    }
   ],
   "source": [
    "fig, axes = plt.subplots(3, 3, figsize=(8, 2.6))\n",
    "\n",
    "for ax in axes.flatten():\n",
    "    ax.axis('off')\n",
    "\n",
    "ax = axes[0, 0]\n",
    "ax.imshow(img_seq_a, cmap='jet', vmin=vmin, vmax=vmax, aspect=aspect_ratio)\n",
    "ax.text(0.02, 0.5, '(a)', transform=ax.transAxes, fontsize=12, color='w')\n",
    "\n",
    "ax = axes[0, 1]\n",
    "ax.imshow(img_seq_m, cmap='jet', vmin=vmin, vmax=vmax, aspect=aspect_ratio)\n",
    "ax.text(0.02, 0.7, '(b)', transform=ax.transAxes, fontsize=12, color='k')\n",
    "\n",
    "ax = axes[0, 2]\n",
    "ax.imshow(img_dc, aspect=aspect_ratio)\n",
    "ax.text(0.02, 0.7, '(c)', transform=ax.transAxes, fontsize=12, color='w')\n",
    "\n",
    "ax = axes[1, 0]\n",
    "ax.imshow(img_k2, aspect=aspect_ratio)\n",
    "ax.text(0.02, 0.7, '(d)', transform=ax.transAxes, fontsize=12, color='w')\n",
    "\n",
    "ax = axes[1, 1]\n",
    "ax.imshow(img_k10, aspect=aspect_ratio)\n",
    "ax.text(0.02, 0.7, '(e)', transform=ax.transAxes, fontsize=12, color='w')\n",
    "\n",
    "ax = axes[1, 2]\n",
    "ax.imshow(img_k64, aspect=aspect_ratio)\n",
    "ax.text(0.02, 0.7, '(f)', transform=ax.transAxes, fontsize=12, color='w')\n",
    "\n",
    "ax = axes[2, 0]\n",
    "ax.imshow(img_seq_k2, cmap='jet', vmin=vmin, vmax=vmax, aspect=aspect_ratio)\n",
    "ax.text(0.02, 0.7, '(g)', transform=ax.transAxes, fontsize=12, color='w')\n",
    "\n",
    "ax = axes[2, 1]\n",
    "img = ax.imshow(img_seq_k10, cmap='jet', vmin=vmin, vmax=vmax, aspect=aspect_ratio)\n",
    "ax.text(0.02, 0.7, '(h)', transform=ax.transAxes, fontsize=12, color='w')\n",
    "\n",
    "ax = axes[2, 2]\n",
    "img = ax.imshow(img_seq_k64, cmap='jet', vmin=vmin, vmax=vmax, aspect=aspect_ratio)\n",
    "ax.text(0.02, 0.7, '(i)', transform=ax.transAxes, fontsize=12, color='w')\n",
    "\n",
    "fig.subplots_adjust(bottom=0, top=0.9, left=0, right=0.93, wspace=0.02, hspace=0.01)\n",
    "cb_ax = fig.add_axes([0.94, 0.02, 0.01, 0.88])\n",
    "cbar = fig.colorbar(img, cax=cb_ax)\n",
    "\n",
    "fig.savefig(\"img/Au29.pdf\", dpi=300)"
   ]
  },
  {
   "cell_type": "code",
   "execution_count": null,
   "metadata": {},
   "outputs": [],
   "source": []
  }
 ],
 "metadata": {
  "kernelspec": {
   "display_name": "Python 3",
   "language": "python",
   "name": "python3"
  },
  "language_info": {
   "codemirror_mode": {
    "name": "ipython",
    "version": 3
   },
   "file_extension": ".py",
   "mimetype": "text/x-python",
   "name": "python",
   "nbconvert_exporter": "python",
   "pygments_lexer": "ipython3",
   "version": "3.7.7"
  }
 },
 "nbformat": 4,
 "nbformat_minor": 2
}
