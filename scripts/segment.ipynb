{
 "cells": [
  {
   "cell_type": "code",
   "execution_count": null,
   "metadata": {},
   "outputs": [],
   "source": [
    "%matplotlib inline\n",
    "import os\n",
    "import sys\n",
    "sys.path.append(\"..\")\n",
    "import time\n",
    "import numpy as np\n",
    "\n",
    "import matplotlib.pyplot as plt\n",
    "from matplotlib import rcParams\n",
    "\n",
    "rcParams['font.size'] = 10\n",
    "rcParams['font.family'] = 'serif'\n",
    "rcParams['font.sans-serif'] = ['Times New Roman']\n",
    "\n",
    "from sklearn.decomposition import PCA\n",
    "\n",
    "from canon.pattern.model import GMModel, KMeansModel, BGMModel, MeanShiftModel\n",
    "\n",
    "def fill_features(features, img_shape):\n",
    "    num_points = np.prod(img_shape)\n",
    "    if len(features) != num_points:\n",
    "        print(\"Filling %d features to %d data points\" % (len(features), num_points))\n",
    "        features2 = np.zeros((np.prod(img_shape), features.shape[1] - 1))\n",
    "        features2[features[:, 0].astype('int') - 1] = features[:, 1:]\n",
    "        return features2\n",
    "    else:\n",
    "        return features[:, 1:]"
   ]
  },
  {
   "cell_type": "markdown",
   "metadata": {},
   "source": [
    "# Feature Extraction"
   ]
  },
  {
   "cell_type": "code",
   "execution_count": null,
   "metadata": {},
   "outputs": [],
   "source": [
    "feature_file = \"au29_area2_50_150_256\"\n",
    "img_shape = (50, 150)\n",
    "aspect_ratio = 1.5\n",
    "\n",
    "features = np.load(\"features/\" + feature_file + \".npy\")\n",
    "features = fill_features(features, img_shape)"
   ]
  },
  {
   "cell_type": "markdown",
   "metadata": {},
   "source": [
    "# Direct Coloring\n",
    "Directly color each point using the first 3 principal components, without clustering."
   ]
  },
  {
   "cell_type": "code",
   "execution_count": null,
   "metadata": {},
   "outputs": [],
   "source": [
    "pca = PCA(n_components=3)\n",
    "X = pca.fit_transform(features)\n",
    "pca_range = [X.min(axis=0), X.max(axis=0)]\n",
    "X = (X - pca_range[0]) / (pca_range[1] - pca_range[0])\n",
    "Z = np.zeros((img_shape[0], img_shape[1], 3))\n",
    "Z[:, :, 0] = X[:, 0].reshape(img_shape)\n",
    "Z[:, :, 1] = X[:, 1].reshape(img_shape)\n",
    "Z[:, :, 2] = X[:, 2].reshape(img_shape)\n",
    "fig, ax = plt.subplots(ncols=1, nrows=1)\n",
    "ax.imshow(Z[::-1, :, :], aspect=aspect_ratio)"
   ]
  },
  {
   "cell_type": "markdown",
   "metadata": {},
   "source": [
    "# Clustering\n",
    "The normal clustering + labeling"
   ]
  },
  {
   "cell_type": "code",
   "execution_count": null,
   "metadata": {},
   "outputs": [],
   "source": [
    "model = KMeansModel()\n",
    "pca = PCA(n_components=8)\n",
    "model.train(features, n_clusters=11, preprocessors=[])\n",
    "\n",
    "silhouette = model.compute_silhouette_score(features)\n",
    "calinski = model.compute_calinski_harabaz_score(features)\n",
    "print(\"Silhouette Score = {}, Calinski-Harabaz Score = {}\".format(silhouette, calinski))\n",
    "\n",
    "scores = np.array(model.score(features))\n",
    "\n",
    "fig, ax = plt.subplots(ncols=1, nrows=1)\n",
    "\n",
    "Z = model.color_by_pca(scores.reshape(img_shape), scaling='centroids')\n",
    "ax.imshow(Z[::-1, :, :], aspect=aspect_ratio)\n",
    "# fig.savefig(\"img/Z.pdf\", bbox_inches='tight', figsize=(5, 4), dpi=300)"
   ]
  },
  {
   "cell_type": "markdown",
   "metadata": {},
   "source": [
    "# Silhouette Score & Calinski-Harabaz Score\n",
    "Use Silhouette Score & Calinski-Harabaz Score to estimate number of \"coarse\" clusters.\n",
    "Good for grain boundaries and phase boundaries."
   ]
  },
  {
   "cell_type": "code",
   "execution_count": null,
   "metadata": {},
   "outputs": [],
   "source": [
    "from joblib import Parallel, delayed\n",
    "\n",
    "Ks = np.arange(2, 20, 1)\n",
    "SCs=[]\n",
    "\n",
    "def inertia(k):\n",
    "    print(\"K=\", k)\n",
    "    model = KMeansModel()\n",
    "    pca = PCA(n_components=32)\n",
    "    model.train(features, n_clusters=k, preprocessors=[pca])\n",
    "    silhouette = model.compute_silhouette_score(features)\n",
    "    calinski = model.compute_calinski_harabaz_score(features)\n",
    "    print(\"Silhouette Score = {}, Calinski-Harabaz Score = {}\".format(silhouette, calinski))\n",
    "    return silhouette, calinski\n",
    "\n",
    "with Parallel(n_jobs=-1, verbose=1) as parallel:\n",
    "    SCs = parallel(delayed(inertia)(k) for k in Ks)\n",
    "    SCs = np.array(SCs)\n",
    "    \n",
    "fig, ax = plt.subplots(1, 2, figsize=(8, 4))\n",
    "ax[0].plot(Ks, SCs[:, 0], 'o--k', markerfacecolor='w', markersize=5)\n",
    "ax[0].set_xlabel(r'Number of Clusters', fontsize=12)\n",
    "ax[0].set_ylabel(r'Silhouette Score', fontsize=12)\n",
    "\n",
    "ax[1].plot(Ks, SCs[:, 1], 'o--k', markerfacecolor='w', markersize=5)\n",
    "ax[1].set_xlabel(r'Number of Clusters', fontsize=12)\n",
    "ax[1].set_ylabel(r'Calinski-Harabaz Score', fontsize=12)\n",
    "\n",
    "plt.tight_layout()"
   ]
  },
  {
   "cell_type": "code",
   "execution_count": null,
   "metadata": {},
   "outputs": [],
   "source": []
  }
 ],
 "metadata": {
  "kernelspec": {
   "display_name": "Python 3",
   "language": "python",
   "name": "python3"
  },
  "language_info": {
   "codemirror_mode": {
    "name": "ipython",
    "version": 3
   },
   "file_extension": ".py",
   "mimetype": "text/x-python",
   "name": "python",
   "nbconvert_exporter": "python",
   "pygments_lexer": "ipython3",
   "version": "3.6.6"
  }
 },
 "nbformat": 4,
 "nbformat_minor": 2
}
