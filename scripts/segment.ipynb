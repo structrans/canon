{
 "cells": [
  {
   "cell_type": "code",
   "execution_count": null,
   "metadata": {},
   "outputs": [],
   "source": [
    "%matplotlib inline\n",
    "import os\n",
    "import sys\n",
    "sys.path.append(\"..\")\n",
    "import time\n",
    "import numpy as np\n",
    "\n",
    "import matplotlib.pyplot as plt\n",
    "from matplotlib import rcParams\n",
    "\n",
    "rcParams['font.size'] = 10\n",
    "rcParams['font.family'] = 'serif'\n",
    "rcParams['font.sans-serif'] = ['Times New Roman']\n",
    "\n",
    "from canon.pattern.model import GMModel, KMeansModel, BGMModel, MeanShiftModel\n",
    "\n",
    "def fill_features(features, img_shape):\n",
    "    num_points = np.prod(img_shape)\n",
    "    if len(features) != num_points:\n",
    "        print(\"Filling %d features to %d data points\" % (len(features), num_points))\n",
    "        features2 = np.zeros((np.prod(img_shape), features.shape[1] - 1))\n",
    "        features2[features[:, 0].astype('int') - 1] = features[:, 1:]\n",
    "        return features2\n",
    "    else:\n",
    "        return features[:, 1:]"
   ]
  },
  {
   "cell_type": "code",
   "execution_count": null,
   "metadata": {},
   "outputs": [],
   "source": [
    "feature_file = \"BTO_25C_wb3_processed\"\n",
    "img_shape = (60, 100)\n",
    "\n",
    "features = np.load(\"features/\" + feature_file + \".npy\")\n",
    "features = fill_features(features, img_shape)\n",
    "\n",
    "model = BGMModel()\n",
    "model.train(features, n_clusters=6, preprocessors=[])\n",
    "\n",
    "silhouette = model.compute_silhouette_score(features)\n",
    "calinski = model.compute_calinski_harabaz_score(features)\n",
    "print(\"Silhouette Score = {}, Calinski-Harabaz Score = {}\".format(silhouette, calinski))\n",
    "\n",
    "scores = np.array(model.score(features))\n",
    "Z = model.coloring(scores.reshape(img_shape))\n",
    "\n",
    "fig, ax = plt.subplots(ncols=1, nrows=1)\n",
    "ax.imshow(Z[::-1, :, :], aspect=1)\n",
    "fig.savefig(\"img/Z.pdf\", bbox_inches='tight', figsize=(5, 4), dpi=300)"
   ]
  },
  {
   "cell_type": "code",
   "execution_count": null,
   "metadata": {},
   "outputs": [],
   "source": []
  }
 ],
 "metadata": {
  "kernelspec": {
   "display_name": "Python 3",
   "language": "python",
   "name": "python3"
  },
  "language_info": {
   "codemirror_mode": {
    "name": "ipython",
    "version": 3
   },
   "file_extension": ".py",
   "mimetype": "text/x-python",
   "name": "python",
   "nbconvert_exporter": "python",
   "pygments_lexer": "ipython3",
   "version": "3.6.5"
  }
 },
 "nbformat": 4,
 "nbformat_minor": 2
}
