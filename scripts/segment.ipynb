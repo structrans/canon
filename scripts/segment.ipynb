{
 "cells": [
  {
   "cell_type": "code",
   "execution_count": 1,
   "metadata": {},
   "outputs": [
    {
     "name": "stderr",
     "output_type": "stream",
     "text": [
      "Using TensorFlow backend.\n"
     ]
    }
   ],
   "source": [
    "%matplotlib inline\n",
    "import os\n",
    "import sys\n",
    "sys.path.append(\"..\")\n",
    "import time\n",
    "import numpy as np\n",
    "\n",
    "import matplotlib.pyplot as plt\n",
    "from matplotlib import rcParams\n",
    "\n",
    "rcParams['font.size'] = 10\n",
    "rcParams['font.family'] = 'serif'\n",
    "rcParams['font.sans-serif'] = ['Times New Roman']\n",
    "\n",
    "from canon.pattern.model import GMModel, KMeansModel, BGMModel, MeanShiftModel"
   ]
  },
  {
   "cell_type": "code",
   "execution_count": 2,
   "metadata": {},
   "outputs": [
    {
     "name": "stdout",
     "output_type": "stream",
     "text": [
      "Silhouette Score = 0.39801843406065496, Calinski-Harabaz Score = 1766.4863501771672\n"
     ]
    },
    {
     "data": {
      "image/png": "[encoded data removed]",
      "text/plain": [
       "<Figure size 432x288 with 1 Axes>"
      ]
     },
     "metadata": {},
     "output_type": "display_data"
    }
   ],
   "source": [
    "feature_file = \"BTO_25C_wb3_processed\"\n",
    "img_shape = (60, 100)\n",
    "\n",
    "features = np.load(\"features/\" + feature_file + \".npy\")\n",
    "\n",
    "model = BGMModel()\n",
    "model.train(features, n_clusters=6, preprocessors=[])\n",
    "\n",
    "silhouette = model.compute_silhouette_score(features)\n",
    "calinski = model.compute_calinski_harabaz_score(features)\n",
    "print(\"Silhouette Score = {}, Calinski-Harabaz Score = {}\".format(silhouette, calinski))\n",
    "\n",
    "scores = np.array(model.score(features))\n",
    "Z = model.coloring(scores.reshape(img_shape))\n",
    "\n",
    "fig, ax = plt.subplots(ncols=1, nrows=1)\n",
    "ax.imshow(Z[::-1, :, :], aspect=1)\n",
    "fig.savefig(\"img/Z.pdf\", bbox_inches='tight', figsize=(5, 4), dpi=300)"
   ]
  },
  {
   "cell_type": "code",
   "execution_count": null,
   "metadata": {},
   "outputs": [],
   "source": []
  }
 ],
 "metadata": {
  "kernelspec": {
   "display_name": "Python 3",
   "language": "python",
   "name": "python3"
  },
  "language_info": {
   "codemirror_mode": {
    "name": "ipython",
    "version": 3
   },
   "file_extension": ".py",
   "mimetype": "text/x-python",
   "name": "python",
   "nbconvert_exporter": "python",
   "pygments_lexer": "ipython3",
   "version": "3.6.5"
  }
 },
 "nbformat": 4,
 "nbformat_minor": 2
}
