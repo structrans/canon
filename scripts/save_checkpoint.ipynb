{
 "cells": [
  {
   "cell_type": "code",
   "execution_count": 1,
   "metadata": {},
   "outputs": [
    {
     "name": "stderr",
     "output_type": "stream",
     "text": [
      "Using TensorFlow backend.\n"
     ]
    }
   ],
   "source": [
    "import os\n",
    "import sys\n",
    "import keras\n",
    "\n",
    "sys.path.append('/Users/sherrychen/pyproject/canon')\n",
    "\n",
    "import canon.autoencode"
   ]
  },
  {
   "cell_type": "code",
   "execution_count": 13,
   "metadata": {},
   "outputs": [
    {
     "name": "stdout",
     "output_type": "stream",
     "text": [
      "autoencoder.050.hdf5\n"
     ]
    }
   ],
   "source": [
    "%%bash\n",
    "\n",
    "ls checkpoints/conv_4/32"
   ]
  },
  {
   "cell_type": "code",
   "execution_count": 14,
   "metadata": {},
   "outputs": [
    {
     "name": "stdout",
     "output_type": "stream",
     "text": [
      "saved model ae_conv_4_32\n"
     ]
    }
   ],
   "source": [
    "architecture = \"conv_4\"\n",
    "n_features = 32\n",
    "\n",
    "model_name = \"ae_%s_%d\" % (architecture.lower(), n_features)\n",
    "checkpoint = \"checkpoints/%s/%d/autoencoder.050.hdf5\" % (architecture.lower(), n_features)\n",
    "\n",
    "autoencoder = keras.models.load_model(checkpoint)\n",
    "encoder = autoencoder.layers[1]\n",
    "decoder = autoencoder.layers[2]\n",
    "\n",
    "model_dir = \"../data/models/{}\".format(model_name)\n",
    "if not os.path.exists(model_dir):\n",
    "    os.makedirs(model_dir)\n",
    "\n",
    "# save trained weights\n",
    "with open(os.path.join(model_dir, \"encoder.json\"), \"w\") as json_file:\n",
    "    json_file.write(encoder.to_json())\n",
    "with open(os.path.join(model_dir, \"decoder.json\"), \"w\") as json_file:\n",
    "    json_file.write(decoder.to_json())\n",
    "encoder.save_weights(os.path.join(model_dir, \"encoder.h5\"))\n",
    "decoder.save_weights(os.path.join(model_dir, \"decoder.h5\"))\n",
    "\n",
    "print(\"saved model {}\".format(model_name))"
   ]
  },
  {
   "cell_type": "code",
   "execution_count": null,
   "metadata": {
    "collapsed": true
   },
   "outputs": [],
   "source": []
  }
 ],
 "metadata": {
  "kernelspec": {
   "display_name": "Python 3",
   "language": "python",
   "name": "python3"
  },
  "language_info": {
   "codemirror_mode": {
    "name": "ipython",
    "version": 3
   },
   "file_extension": ".py",
   "mimetype": "text/x-python",
   "name": "python",
   "nbconvert_exporter": "python",
   "pygments_lexer": "ipython3",
   "version": "3.6.2"
  }
 },
 "nbformat": 4,
 "nbformat_minor": 2
}
