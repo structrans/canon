{
 "cells": [
  {
   "cell_type": "code",
   "execution_count": 1,
   "metadata": {},
   "outputs": [
    {
     "name": "stderr",
     "output_type": "stream",
     "text": [
      "Using TensorFlow backend.\n"
     ]
    }
   ],
   "source": [
    "import os\n",
    "import sys\n",
    "import keras\n",
    "\n",
    "sys.path.append('..')\n",
    "\n",
    "import canon.autoencode"
   ]
  },
  {
   "cell_type": "code",
   "execution_count": 5,
   "metadata": {},
   "outputs": [
    {
     "name": "stdout",
     "output_type": "stream",
     "text": [
      "autoencoder.055.hdf5\n",
      "autoencoder.201.hdf5\n",
      "history.csv\n"
     ]
    }
   ],
   "source": [
    "%%bash\n",
    "\n",
    "ls checkpoints/conv_4/256"
   ]
  },
  {
   "cell_type": "code",
   "execution_count": 6,
   "metadata": {},
   "outputs": [
    {
     "name": "stdout",
     "output_type": "stream",
     "text": [
      "saved model ae_conv_4_256\n"
     ]
    }
   ],
   "source": [
    "architecture = \"conv_4\"\n",
    "n_features = 256\n",
    "\n",
    "model_name = \"ae_%s_%d\" % (architecture.lower(), n_features)\n",
    "checkpoint = os.path.join(\"checkpoints\",architecture.lower(), \"%d\" % n_features, \"autoencoder.242.hdf5\")\n",
    "\n",
    "autoencoder = keras.models.load_model(checkpoint)\n",
    "encoder = autoencoder.layers[1]\n",
    "decoder = autoencoder.layers[2]\n",
    "\n",
    "model_dir = os.path.join(\"..\",\"data\", \"models\", model_name)\n",
    "if not os.path.exists(model_dir):\n",
    "    os.makedirs(model_dir)\n",
    "\n",
    "# save trained weights\n",
    "with open(os.path.join(model_dir, \"encoder.json\"), \"w\") as json_file:\n",
    "    json_file.write(encoder.to_json())\n",
    "with open(os.path.join(model_dir, \"decoder.json\"), \"w\") as json_file:\n",
    "    json_file.write(decoder.to_json())\n",
    "encoder.save_weights(os.path.join(model_dir, \"encoder.h5\"))\n",
    "decoder.save_weights(os.path.join(model_dir, \"decoder.h5\"))\n",
    "\n",
    "print(\"saved model {}\".format(model_name))"
   ]
  },
  {
   "cell_type": "code",
   "execution_count": null,
   "metadata": {},
   "outputs": [],
   "source": []
  }
 ],
 "metadata": {
  "kernelspec": {
   "display_name": "Python 3",
   "language": "python",
   "name": "python3"
  },
  "language_info": {
   "codemirror_mode": {
    "name": "ipython",
    "version": 3
   },
   "file_extension": ".py",
   "mimetype": "text/x-python",
   "name": "python",
   "nbconvert_exporter": "python",
   "pygments_lexer": "ipython3",
   "version": "3.6.7"
  }
 },
 "nbformat": 4,
 "nbformat_minor": 2
}
