{
 "cells": [
  {
   "cell_type": "code",
   "execution_count": 31,
   "metadata": {
    "collapsed": true
   },
   "outputs": [],
   "source": [
    "import os\n",
    "import sys\n",
    "import keras\n",
    "\n",
    "sys.path.append('/Users/sherrychen/pyproject/canon')\n",
    "\n",
    "import canon.autoencode"
   ]
  },
  {
   "cell_type": "code",
   "execution_count": 72,
   "metadata": {},
   "outputs": [
    {
     "name": "stdout",
     "output_type": "stream",
     "text": [
      "autoencoder.081.hdf5\n"
     ]
    }
   ],
   "source": [
    "%%bash\n",
    "\n",
    "cd checkpoints/AE_128_to_256/conv_10_dens_1\n",
    "ls"
   ]
  },
  {
   "cell_type": "code",
   "execution_count": 73,
   "metadata": {
    "collapsed": true
   },
   "outputs": [],
   "source": [
    "architecture = \"conv_10_dens_1\"\n",
    "model_name = \"ae_128_256_%s\" % architecture\n",
    "checkpoint = \"checkpoints/AE_128_to_256/%s/autoencoder.081.hdf5\" % architecture\n",
    "\n",
    "autoencoder = keras.models.load_model(checkpoint)\n",
    "encoder = autoencoder.layers[1]\n",
    "decoder = autoencoder.layers[2]\n",
    "\n",
    "model_dir = \"../data/models/{}\".format(model_name)\n",
    "if not os.path.exists(model_dir):\n",
    "    os.makedirs(model_dir)\n",
    "\n",
    "# save trained weights\n",
    "with open(os.path.join(model_dir, \"encoder.json\"), \"w\") as json_file:\n",
    "    json_file.write(encoder.to_json())\n",
    "with open(os.path.join(model_dir, \"decoder.json\"), \"w\") as json_file:\n",
    "    json_file.write(decoder.to_json())\n",
    "encoder.save_weights(os.path.join(model_dir, \"encoder.h5\"))\n",
    "decoder.save_weights(os.path.join(model_dir, \"decoder.h5\"))"
   ]
  },
  {
   "cell_type": "code",
   "execution_count": null,
   "metadata": {
    "collapsed": true
   },
   "outputs": [],
   "source": []
  }
 ],
 "metadata": {
  "kernelspec": {
   "display_name": "Python 3",
   "language": "python",
   "name": "python3"
  },
  "language_info": {
   "codemirror_mode": {
    "name": "ipython",
    "version": 3
   },
   "file_extension": ".py",
   "mimetype": "text/x-python",
   "name": "python",
   "nbconvert_exporter": "python",
   "pygments_lexer": "ipython3",
   "version": "3.6.2"
  }
 },
 "nbformat": 4,
 "nbformat_minor": 2
}
