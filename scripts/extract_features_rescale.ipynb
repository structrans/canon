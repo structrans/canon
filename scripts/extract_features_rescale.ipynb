{
 "cells": [
  {
   "cell_type": "code",
   "execution_count": null,
   "metadata": {},
   "outputs": [],
   "source": [
    "%matplotlib inline\n",
    "import os\n",
    "import sys\n",
    "sys.path.append(\"..\")\n",
    "import time\n",
    "import numpy as np\n",
    "\n",
    "from joblib import Parallel, delayed\n",
    "from skimage.io import imread\n",
    "\n",
    "from canon.pattern import RescaleExtractor\n",
    "from canon.util import split_workload"
   ]
  },
  {
   "cell_type": "code",
   "execution_count": null,
   "metadata": {},
   "outputs": [],
   "source": [
    "def process_img(img_files, shape):\n",
    "    extractor = RescaleExtractor(shape)\n",
    "    img_data = np.array([imread(f) for f in img_files])\n",
    "    img_idx = np.array([[int(f[-9:-4])] for f in img_files])\n",
    "    codes = extractor.features(img_data)\n",
    "    return np.hstack([img_idx, codes])\n",
    "\n",
    "def extract_features(jpg_dir, model_name):\n",
    "    dir_path = os.path.join(\"img\", jpg_dir)\n",
    "    filenames = [os.path.join(dir_path, filename) for filename in os.listdir(dir_path)]\n",
    "    print('Found %d files in the directory %s.' % (len(filenames), dir_path))\n",
    "\n",
    "    fn_grps = split_workload(filenames, 32)\n",
    "\n",
    "    with Parallel(n_jobs=-1, verbose=12) as parallel:\n",
    "        data = parallel(delayed(process_img)(grp, model_name) for grp in fn_grps)\n",
    "        data = np.vstack(data)\n",
    "        data = data[data[:,0].argsort()]\n",
    "        print(\"Loaded a data of shape {}\".format(data.shape))\n",
    "    \n",
    "    return data"
   ]
  },
  {
   "cell_type": "code",
   "execution_count": null,
   "metadata": {},
   "outputs": [],
   "source": [
    "jpg_dir = \"BTO_25C_wb3_60_100\"\n",
    "npy_suffix = \"_rescale_16_16\"\n",
    "rescale_shape = (16, 16)\n",
    "feature_file = jpg_dir + npy_suffix + \".npy\"\n",
    "\n",
    "print(\"Saving features to \" + feature_file)\n",
    "data = extract_features(jpg_dir, rescale_shape)\n",
    "np.save(\"features/\" + feature_file, data)"
   ]
  },
  {
   "cell_type": "code",
   "execution_count": null,
   "metadata": {},
   "outputs": [],
   "source": []
  }
 ],
 "metadata": {
  "kernelspec": {
   "display_name": "Python 3",
   "language": "python",
   "name": "python3"
  },
  "language_info": {
   "codemirror_mode": {
    "name": "ipython",
    "version": 3
   },
   "file_extension": ".py",
   "mimetype": "text/x-python",
   "name": "python",
   "nbconvert_exporter": "python",
   "pygments_lexer": "ipython3",
   "version": "3.6.5"
  }
 },
 "nbformat": 4,
 "nbformat_minor": 2
}
