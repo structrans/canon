{
 "cells": [
  {
   "cell_type": "code",
   "execution_count": null,
   "metadata": {},
   "outputs": [],
   "source": [
    "import os\n",
    "import sys\n",
    "sys.path.append(\"..\")\n",
    "import canon\n",
    "\n",
    "import numpy as np\n",
    "import matplotlib.pyplot as plt\n",
    "from PIL import Image\n",
    "\n",
    "import tensorflow as tf\n",
    "import keras, keras.layers as L, keras.backend as K\n",
    "\n",
    "from canon.autoencode.feeder import ImageDataFeeder\n",
    "\n",
    "IMAGE_DIR = \"img/processed_128\"\n",
    "filenames = [filename for filename in os.listdir(IMAGE_DIR)]\n",
    "IMAGE_SHAPE = plt.imread(os.path.join(IMAGE_DIR, filenames[0])).shape\n",
    "feeder = ImageDataFeeder(batch_size=30, test_size=500, img_dir=IMAGE_DIR)\n",
    "X_test = feeder.get_test_set()\n",
    "print(X_test.shape)"
   ]
  },
  {
   "cell_type": "code",
   "execution_count": null,
   "metadata": {},
   "outputs": [],
   "source": [
    "import canon.autoencode\n",
    "from canon.autoencode import reset_tf_session\n",
    "\n",
    "s = reset_tf_session()\n",
    "model_name = canon.autoencode.models.AE_128_to_256\n",
    "encoder = canon.autoencode.models.load_encoder(model_name)\n",
    "decoder = canon.autoencode.models.load_decoder(model_name)\n",
    "encoder.summary()\n",
    "decoder.summary()"
   ]
  },
  {
   "cell_type": "code",
   "execution_count": null,
   "metadata": {},
   "outputs": [],
   "source": [
    "def visualize(img,encoder,decoder):\n",
    "    \"\"\"Draws original, encoded and decoded images\"\"\"\n",
    "    code = encoder.predict(img[None])[0]  # img[None] is the same as img[np.newaxis, :]\n",
    "    reco = decoder.predict(code[None])[0]\n",
    "\n",
    "    plt.figure(figsize=(10,50))\n",
    "    \n",
    "    plt.subplot(1,3,1)\n",
    "    plt.title(\"Original\")\n",
    "    plt.imshow(img, cmap='gray')\n",
    "\n",
    "    plt.subplot(1,3,2)\n",
    "    plt.title(\"Code\")\n",
    "    plt.imshow(code.reshape([int(np.ceil(np.sqrt(code.shape[-1]))),-1]), cmap='gray')\n",
    "\n",
    "    plt.subplot(1,3,3)\n",
    "    plt.title(\"Reconstructed\")\n",
    "    plt.imshow(reco, cmap='gray')\n",
    "    plt.show()\n",
    "\n",
    "for i in np.random.choice(np.arange(20), 5):\n",
    "    img = X_test[i]\n",
    "    visualize(img, encoder, decoder)"
   ]
  },
  {
   "cell_type": "code",
   "execution_count": null,
   "metadata": {},
   "outputs": [],
   "source": []
  }
 ],
 "metadata": {
  "kernelspec": {
   "display_name": "Python 3",
   "language": "python",
   "name": "python3"
  },
  "language_info": {
   "codemirror_mode": {
    "name": "ipython",
    "version": 3
   },
   "file_extension": ".py",
   "mimetype": "text/x-python",
   "name": "python",
   "nbconvert_exporter": "python",
   "pygments_lexer": "ipython3",
   "version": "3.6.5"
  }
 },
 "nbformat": 4,
 "nbformat_minor": 2
}
